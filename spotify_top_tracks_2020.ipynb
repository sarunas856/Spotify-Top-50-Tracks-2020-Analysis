{
 "cells": [
  {
   "cell_type": "markdown",
   "metadata": {},
   "source": [
    "# Analysis of the Top 50 Spotify Tracks 2020 dataset"
   ]
  },
  {
   "cell_type": "markdown",
   "metadata": {},
   "source": [
    "**Data Source** https://www.kaggle.com/datasets/atillacolak/top-50-spotify-tracks-2020\n",
    "\n",
    "Top 50 most streamed tracks on Spotify in 2020 dataset (file - `spotifytoptracks.csv`) includes information about 50 songs, including audio features, artists, genres, and more. The goal is to uncover trends, identify correlations, and answer specific questions about the dataset."
   ]
  },
  {
   "cell_type": "markdown",
   "metadata": {},
   "source": [
    "The dataset, `spotifytoptracks.csv`, contains the following features:\n",
    "\n",
    "**artist** - Name of the artist.\n",
    "\n",
    "**album** - Name of the album that the song is on.\n",
    "\n",
    "**track_name** - Name of the song.\n",
    "\n",
    "**track_id** - ID of the song (removed during preprocessing as redundant).\n",
    "\n",
    "**energy** - Higher value means that the songs is more energetic.\n",
    "\n",
    "**danceability** - Higher value means that it is easier to dance to the song.\n",
    "\n",
    "**key** - The primary identifier of songs.\n",
    "\n",
    "**loudness** - Higher value means that the song is louder.\n",
    "\n",
    "**acousticness** - This value describes how acoustic a song is.\n",
    "\n",
    "**speechiness** - Speechiness detects the presence of spoken words in a track.\n",
    "\n",
    "**instrumentalness** - Describes whether a track contains no vocals. If the instrumentalness is closer to '1', the song is more likely to have no vocals.\n",
    "\n",
    "**liveness** - Describes the likelihood that the song was recorded with a live audience.\n",
    "\n",
    "**valence** - Describes the positiveness of a song. Higher valence means that the song sounds more positive.\n",
    "\n",
    "**tempo** - beats per minute.\n",
    "\n",
    "**duration_ms** - The length of the song in milliseconds.\n",
    "\n",
    "**genre** - Genre of the song."
   ]
  },
  {
   "cell_type": "code",
   "execution_count": 1,
   "metadata": {},
   "outputs": [],
   "source": [
    "import pandas as pd\n",
    "import seaborn as sns\n",
    "import matplotlib.pyplot as plt"
   ]
  },
  {
   "cell_type": "code",
   "execution_count": 2,
   "metadata": {},
   "outputs": [],
   "source": [
    "tracks = pd.read_csv(\"dataset/spotifytoptracks.csv\", index_col=0).rename(\n",
    "    columns=str.title\n",
    ")"
   ]
  },
  {
   "cell_type": "code",
   "execution_count": 3,
   "metadata": {},
   "outputs": [],
   "source": [
    "tracks.rename(\n",
    "    columns={\n",
    "        \"Track_Name\": \"Track Name\",\n",
    "        \"Track_Id\": \"Track Id\",\n",
    "        \"Tempo\": \"Beats per Minute\",\n",
    "        \"Duration_Ms\": \"Duration in Milliseconds\",\n",
    "    },\n",
    "    inplace=True,\n",
    ")"
   ]
  },
  {
   "cell_type": "markdown",
   "metadata": {},
   "source": [
    "## Exploratory Data Analysis"
   ]
  },
  {
   "cell_type": "markdown",
   "metadata": {},
   "source": [
    "### Initial Data Checks"
   ]
  },
  {
   "cell_type": "code",
   "execution_count": 4,
   "metadata": {},
   "outputs": [
    {
     "data": {
      "text/html": [
       "<div>\n",
       "<style scoped>\n",
       "    .dataframe tbody tr th:only-of-type {\n",
       "        vertical-align: middle;\n",
       "    }\n",
       "\n",
       "    .dataframe tbody tr th {\n",
       "        vertical-align: top;\n",
       "    }\n",
       "\n",
       "    .dataframe thead th {\n",
       "        text-align: right;\n",
       "    }\n",
       "</style>\n",
       "<table border=\"1\" class=\"dataframe\">\n",
       "  <thead>\n",
       "    <tr style=\"text-align: right;\">\n",
       "      <th></th>\n",
       "      <th>Artist</th>\n",
       "      <th>Album</th>\n",
       "      <th>Track Name</th>\n",
       "      <th>Track Id</th>\n",
       "      <th>Energy</th>\n",
       "      <th>Danceability</th>\n",
       "      <th>Key</th>\n",
       "      <th>Loudness</th>\n",
       "      <th>Acousticness</th>\n",
       "      <th>Speechiness</th>\n",
       "      <th>Instrumentalness</th>\n",
       "      <th>Liveness</th>\n",
       "      <th>Valence</th>\n",
       "      <th>Beats per Minute</th>\n",
       "      <th>Duration in Milliseconds</th>\n",
       "      <th>Genre</th>\n",
       "    </tr>\n",
       "  </thead>\n",
       "  <tbody>\n",
       "    <tr>\n",
       "      <th>0</th>\n",
       "      <td>The Weeknd</td>\n",
       "      <td>After Hours</td>\n",
       "      <td>Blinding Lights</td>\n",
       "      <td>0VjIjW4GlUZAMYd2vXMi3b</td>\n",
       "      <td>0.730</td>\n",
       "      <td>0.514</td>\n",
       "      <td>1</td>\n",
       "      <td>-5.934</td>\n",
       "      <td>0.00146</td>\n",
       "      <td>0.0598</td>\n",
       "      <td>0.000095</td>\n",
       "      <td>0.0897</td>\n",
       "      <td>0.334</td>\n",
       "      <td>171.005</td>\n",
       "      <td>200040</td>\n",
       "      <td>R&amp;B/Soul</td>\n",
       "    </tr>\n",
       "    <tr>\n",
       "      <th>1</th>\n",
       "      <td>Tones And I</td>\n",
       "      <td>Dance Monkey</td>\n",
       "      <td>Dance Monkey</td>\n",
       "      <td>1rgnBhdG2JDFTbYkYRZAku</td>\n",
       "      <td>0.593</td>\n",
       "      <td>0.825</td>\n",
       "      <td>6</td>\n",
       "      <td>-6.401</td>\n",
       "      <td>0.68800</td>\n",
       "      <td>0.0988</td>\n",
       "      <td>0.000161</td>\n",
       "      <td>0.1700</td>\n",
       "      <td>0.540</td>\n",
       "      <td>98.078</td>\n",
       "      <td>209755</td>\n",
       "      <td>Alternative/Indie</td>\n",
       "    </tr>\n",
       "    <tr>\n",
       "      <th>2</th>\n",
       "      <td>Roddy Ricch</td>\n",
       "      <td>Please Excuse Me For Being Antisocial</td>\n",
       "      <td>The Box</td>\n",
       "      <td>0nbXyq5TXYPCO7pr3N8S4I</td>\n",
       "      <td>0.586</td>\n",
       "      <td>0.896</td>\n",
       "      <td>10</td>\n",
       "      <td>-6.687</td>\n",
       "      <td>0.10400</td>\n",
       "      <td>0.0559</td>\n",
       "      <td>0.000000</td>\n",
       "      <td>0.7900</td>\n",
       "      <td>0.642</td>\n",
       "      <td>116.971</td>\n",
       "      <td>196653</td>\n",
       "      <td>Hip-Hop/Rap</td>\n",
       "    </tr>\n",
       "    <tr>\n",
       "      <th>3</th>\n",
       "      <td>SAINt JHN</td>\n",
       "      <td>Roses (Imanbek Remix)</td>\n",
       "      <td>Roses - Imanbek Remix</td>\n",
       "      <td>2Wo6QQD1KMDWeFkkjLqwx5</td>\n",
       "      <td>0.721</td>\n",
       "      <td>0.785</td>\n",
       "      <td>8</td>\n",
       "      <td>-5.457</td>\n",
       "      <td>0.01490</td>\n",
       "      <td>0.0506</td>\n",
       "      <td>0.004320</td>\n",
       "      <td>0.2850</td>\n",
       "      <td>0.894</td>\n",
       "      <td>121.962</td>\n",
       "      <td>176219</td>\n",
       "      <td>Dance/Electronic</td>\n",
       "    </tr>\n",
       "    <tr>\n",
       "      <th>4</th>\n",
       "      <td>Dua Lipa</td>\n",
       "      <td>Future Nostalgia</td>\n",
       "      <td>Don't Start Now</td>\n",
       "      <td>3PfIrDoz19wz7qK7tYeu62</td>\n",
       "      <td>0.793</td>\n",
       "      <td>0.793</td>\n",
       "      <td>11</td>\n",
       "      <td>-4.521</td>\n",
       "      <td>0.01230</td>\n",
       "      <td>0.0830</td>\n",
       "      <td>0.000000</td>\n",
       "      <td>0.0951</td>\n",
       "      <td>0.679</td>\n",
       "      <td>123.950</td>\n",
       "      <td>183290</td>\n",
       "      <td>Nu-disco</td>\n",
       "    </tr>\n",
       "  </tbody>\n",
       "</table>\n",
       "</div>"
      ],
      "text/plain": [
       "        Artist                                  Album             Track Name  \\\n",
       "0   The Weeknd                            After Hours        Blinding Lights   \n",
       "1  Tones And I                           Dance Monkey           Dance Monkey   \n",
       "2  Roddy Ricch  Please Excuse Me For Being Antisocial                The Box   \n",
       "3    SAINt JHN                  Roses (Imanbek Remix)  Roses - Imanbek Remix   \n",
       "4     Dua Lipa                       Future Nostalgia        Don't Start Now   \n",
       "\n",
       "                 Track Id  Energy  Danceability  Key  Loudness  Acousticness  \\\n",
       "0  0VjIjW4GlUZAMYd2vXMi3b   0.730         0.514    1    -5.934       0.00146   \n",
       "1  1rgnBhdG2JDFTbYkYRZAku   0.593         0.825    6    -6.401       0.68800   \n",
       "2  0nbXyq5TXYPCO7pr3N8S4I   0.586         0.896   10    -6.687       0.10400   \n",
       "3  2Wo6QQD1KMDWeFkkjLqwx5   0.721         0.785    8    -5.457       0.01490   \n",
       "4  3PfIrDoz19wz7qK7tYeu62   0.793         0.793   11    -4.521       0.01230   \n",
       "\n",
       "   Speechiness  Instrumentalness  Liveness  Valence  Beats per Minute  \\\n",
       "0       0.0598          0.000095    0.0897    0.334           171.005   \n",
       "1       0.0988          0.000161    0.1700    0.540            98.078   \n",
       "2       0.0559          0.000000    0.7900    0.642           116.971   \n",
       "3       0.0506          0.004320    0.2850    0.894           121.962   \n",
       "4       0.0830          0.000000    0.0951    0.679           123.950   \n",
       "\n",
       "   Duration in Milliseconds              Genre  \n",
       "0                    200040           R&B/Soul  \n",
       "1                    209755  Alternative/Indie  \n",
       "2                    196653        Hip-Hop/Rap  \n",
       "3                    176219   Dance/Electronic  \n",
       "4                    183290           Nu-disco  "
      ]
     },
     "execution_count": 4,
     "metadata": {},
     "output_type": "execute_result"
    }
   ],
   "source": [
    "tracks.head()"
   ]
  },
  {
   "cell_type": "code",
   "execution_count": 5,
   "metadata": {},
   "outputs": [
    {
     "data": {
      "text/plain": [
       "(50, 16)"
      ]
     },
     "execution_count": 5,
     "metadata": {},
     "output_type": "execute_result"
    }
   ],
   "source": [
    "tracks.shape"
   ]
  },
  {
   "cell_type": "code",
   "execution_count": 6,
   "metadata": {},
   "outputs": [
    {
     "name": "stdout",
     "output_type": "stream",
     "text": [
      "Artist                       object\n",
      "Album                        object\n",
      "Track Name                   object\n",
      "Track Id                     object\n",
      "Energy                      float64\n",
      "Danceability                float64\n",
      "Key                           int64\n",
      "Loudness                    float64\n",
      "Acousticness                float64\n",
      "Speechiness                 float64\n",
      "Instrumentalness            float64\n",
      "Liveness                    float64\n",
      "Valence                     float64\n",
      "Beats per Minute            float64\n",
      "Duration in Milliseconds      int64\n",
      "Genre                        object\n",
      "dtype: object\n"
     ]
    }
   ],
   "source": [
    "column_types = tracks.dtypes\n",
    "print(column_types)"
   ]
  },
  {
   "cell_type": "code",
   "execution_count": 7,
   "metadata": {},
   "outputs": [],
   "source": [
    "# Drop a 'Track Id' column since the DataFrame already has a built-in index for row identification,\n",
    "# this column becomes redundant for most analyses.\n",
    "tracks.drop(\"Track Id\", axis=1, inplace=True)"
   ]
  },
  {
   "cell_type": "code",
   "execution_count": 8,
   "metadata": {},
   "outputs": [],
   "source": [
    "# Convert object type columns to a categorical type to optimize storage and computation.\n",
    "tracks[[\"Artist\", \"Album\", \"Track Name\", \"Key\", \"Genre\"]] = tracks[\n",
    "    [\"Artist\", \"Album\", \"Track Name\", \"Key\", \"Genre\"]\n",
    "].apply(lambda x: x.astype(\"category\"))"
   ]
  },
  {
   "cell_type": "code",
   "execution_count": 9,
   "metadata": {},
   "outputs": [],
   "source": [
    "# Move column 'Key' to the first position\n",
    "tracks.insert(0, \"Key\", tracks.pop(\"Key\"))\n",
    "\n",
    "# Move column 'Genre' to the fourth position\n",
    "tracks.insert(4, \"Genre\", tracks.pop(\"Genre\"))"
   ]
  },
  {
   "cell_type": "code",
   "execution_count": 10,
   "metadata": {},
   "outputs": [
    {
     "data": {
      "text/html": [
       "<div>\n",
       "<style scoped>\n",
       "    .dataframe tbody tr th:only-of-type {\n",
       "        vertical-align: middle;\n",
       "    }\n",
       "\n",
       "    .dataframe tbody tr th {\n",
       "        vertical-align: top;\n",
       "    }\n",
       "\n",
       "    .dataframe thead th {\n",
       "        text-align: right;\n",
       "    }\n",
       "</style>\n",
       "<table border=\"1\" class=\"dataframe\">\n",
       "  <thead>\n",
       "    <tr style=\"text-align: right;\">\n",
       "      <th></th>\n",
       "      <th>Key</th>\n",
       "      <th>Artist</th>\n",
       "      <th>Album</th>\n",
       "      <th>Track Name</th>\n",
       "      <th>Genre</th>\n",
       "      <th>Energy</th>\n",
       "      <th>Danceability</th>\n",
       "      <th>Loudness</th>\n",
       "      <th>Acousticness</th>\n",
       "      <th>Speechiness</th>\n",
       "      <th>Instrumentalness</th>\n",
       "      <th>Liveness</th>\n",
       "      <th>Valence</th>\n",
       "      <th>Beats per Minute</th>\n",
       "      <th>Duration in Milliseconds</th>\n",
       "    </tr>\n",
       "  </thead>\n",
       "  <tbody>\n",
       "    <tr>\n",
       "      <th>45</th>\n",
       "      <td>6</td>\n",
       "      <td>Juice WRLD</td>\n",
       "      <td>Goodbye &amp; Good Riddance</td>\n",
       "      <td>Lucid Dreams</td>\n",
       "      <td>Pop</td>\n",
       "      <td>0.566</td>\n",
       "      <td>0.511</td>\n",
       "      <td>-7.230</td>\n",
       "      <td>0.34900</td>\n",
       "      <td>0.2000</td>\n",
       "      <td>0.000000</td>\n",
       "      <td>0.340</td>\n",
       "      <td>0.218</td>\n",
       "      <td>83.903</td>\n",
       "      <td>239836</td>\n",
       "    </tr>\n",
       "    <tr>\n",
       "      <th>46</th>\n",
       "      <td>8</td>\n",
       "      <td>Ariana Grande</td>\n",
       "      <td>Stuck with U</td>\n",
       "      <td>Stuck with U (with Justin Bieber)</td>\n",
       "      <td>Pop</td>\n",
       "      <td>0.450</td>\n",
       "      <td>0.597</td>\n",
       "      <td>-6.658</td>\n",
       "      <td>0.22300</td>\n",
       "      <td>0.0418</td>\n",
       "      <td>0.000000</td>\n",
       "      <td>0.382</td>\n",
       "      <td>0.537</td>\n",
       "      <td>178.765</td>\n",
       "      <td>228482</td>\n",
       "    </tr>\n",
       "    <tr>\n",
       "      <th>47</th>\n",
       "      <td>1</td>\n",
       "      <td>JP Saxe</td>\n",
       "      <td>If the World Was Ending (feat. Julia Michaels)</td>\n",
       "      <td>If the World Was Ending - feat. Julia Michaels</td>\n",
       "      <td>Pop</td>\n",
       "      <td>0.473</td>\n",
       "      <td>0.464</td>\n",
       "      <td>-10.086</td>\n",
       "      <td>0.86600</td>\n",
       "      <td>0.1290</td>\n",
       "      <td>0.000000</td>\n",
       "      <td>0.109</td>\n",
       "      <td>0.604</td>\n",
       "      <td>75.801</td>\n",
       "      <td>208687</td>\n",
       "    </tr>\n",
       "    <tr>\n",
       "      <th>48</th>\n",
       "      <td>0</td>\n",
       "      <td>Dua Lipa</td>\n",
       "      <td>Future Nostalgia</td>\n",
       "      <td>Physical</td>\n",
       "      <td>Dance/Electronic</td>\n",
       "      <td>0.844</td>\n",
       "      <td>0.647</td>\n",
       "      <td>-3.756</td>\n",
       "      <td>0.01370</td>\n",
       "      <td>0.0457</td>\n",
       "      <td>0.000658</td>\n",
       "      <td>0.102</td>\n",
       "      <td>0.746</td>\n",
       "      <td>146.967</td>\n",
       "      <td>193829</td>\n",
       "    </tr>\n",
       "    <tr>\n",
       "      <th>49</th>\n",
       "      <td>8</td>\n",
       "      <td>Travis Scott</td>\n",
       "      <td>ASTROWORLD</td>\n",
       "      <td>SICKO MODE</td>\n",
       "      <td>Hip-Hop/Rap</td>\n",
       "      <td>0.730</td>\n",
       "      <td>0.834</td>\n",
       "      <td>-3.714</td>\n",
       "      <td>0.00513</td>\n",
       "      <td>0.2220</td>\n",
       "      <td>0.000000</td>\n",
       "      <td>0.124</td>\n",
       "      <td>0.446</td>\n",
       "      <td>155.008</td>\n",
       "      <td>312820</td>\n",
       "    </tr>\n",
       "  </tbody>\n",
       "</table>\n",
       "</div>"
      ],
      "text/plain": [
       "   Key         Artist                                           Album  \\\n",
       "45   6     Juice WRLD                         Goodbye & Good Riddance   \n",
       "46   8  Ariana Grande                                    Stuck with U   \n",
       "47   1        JP Saxe  If the World Was Ending (feat. Julia Michaels)   \n",
       "48   0       Dua Lipa                                Future Nostalgia   \n",
       "49   8   Travis Scott                                      ASTROWORLD   \n",
       "\n",
       "                                        Track Name             Genre  Energy  \\\n",
       "45                                    Lucid Dreams               Pop   0.566   \n",
       "46               Stuck with U (with Justin Bieber)               Pop   0.450   \n",
       "47  If the World Was Ending - feat. Julia Michaels               Pop   0.473   \n",
       "48                                        Physical  Dance/Electronic   0.844   \n",
       "49                                      SICKO MODE       Hip-Hop/Rap   0.730   \n",
       "\n",
       "    Danceability  Loudness  Acousticness  Speechiness  Instrumentalness  \\\n",
       "45         0.511    -7.230       0.34900       0.2000          0.000000   \n",
       "46         0.597    -6.658       0.22300       0.0418          0.000000   \n",
       "47         0.464   -10.086       0.86600       0.1290          0.000000   \n",
       "48         0.647    -3.756       0.01370       0.0457          0.000658   \n",
       "49         0.834    -3.714       0.00513       0.2220          0.000000   \n",
       "\n",
       "    Liveness  Valence  Beats per Minute  Duration in Milliseconds  \n",
       "45     0.340    0.218            83.903                    239836  \n",
       "46     0.382    0.537           178.765                    228482  \n",
       "47     0.109    0.604            75.801                    208687  \n",
       "48     0.102    0.746           146.967                    193829  \n",
       "49     0.124    0.446           155.008                    312820  "
      ]
     },
     "execution_count": 10,
     "metadata": {},
     "output_type": "execute_result"
    }
   ],
   "source": [
    "tracks.tail()"
   ]
  },
  {
   "cell_type": "markdown",
   "metadata": {},
   "source": [
    "### Checking missing values, duplicate samples and features"
   ]
  },
  {
   "cell_type": "code",
   "execution_count": 11,
   "metadata": {},
   "outputs": [
    {
     "data": {
      "text/plain": [
       "Key                         0\n",
       "Artist                      0\n",
       "Album                       0\n",
       "Track Name                  0\n",
       "Genre                       0\n",
       "Energy                      0\n",
       "Danceability                0\n",
       "Loudness                    0\n",
       "Acousticness                0\n",
       "Speechiness                 0\n",
       "Instrumentalness            0\n",
       "Liveness                    0\n",
       "Valence                     0\n",
       "Beats per Minute            0\n",
       "Duration in Milliseconds    0\n",
       "dtype: int64"
      ]
     },
     "execution_count": 11,
     "metadata": {},
     "output_type": "execute_result"
    }
   ],
   "source": [
    "# Calculate the count of missing values for each column in the DataFrame\n",
    "missing_counts = tracks.isna().sum()\n",
    "\n",
    "# Display the count of missing values\n",
    "missing_counts"
   ]
  },
  {
   "cell_type": "code",
   "execution_count": 12,
   "metadata": {},
   "outputs": [
    {
     "name": "stdout",
     "output_type": "stream",
     "text": [
      "0\n"
     ]
    }
   ],
   "source": [
    "# Check for any duplicate rows in the DataFrame\n",
    "duplicated_rows_count = tracks.duplicated().sum()\n",
    "print(duplicated_rows_count)"
   ]
  },
  {
   "cell_type": "code",
   "execution_count": 13,
   "metadata": {},
   "outputs": [
    {
     "name": "stdout",
     "output_type": "stream",
     "text": [
      "0\n"
     ]
    }
   ],
   "source": [
    "# Transpose the DataFrame so that columns become rows, then use duplicated() to find duplicates\n",
    "duplicated_features = tracks.T.duplicated()\n",
    "\n",
    "# Get the names of duplicated features\n",
    "duplicate_feature_names = tracks.columns[duplicated_features]\n",
    "\n",
    "# Print the result based on whether there are duplicates or not\n",
    "if len(duplicate_feature_names) > 0:\n",
    "    print(\"Duplicated features:\", list(duplicate_feature_names))\n",
    "else:\n",
    "    print(0)"
   ]
  },
  {
   "cell_type": "markdown",
   "metadata": {},
   "source": [
    "**No missing values, duplicate samples, or duplicate features were found**"
   ]
  },
  {
   "cell_type": "markdown",
   "metadata": {},
   "source": [
    "### Treating the outliers"
   ]
  },
  {
   "cell_type": "code",
   "execution_count": 14,
   "metadata": {},
   "outputs": [
    {
     "data": {
      "text/html": [
       "<div>\n",
       "<style scoped>\n",
       "    .dataframe tbody tr th:only-of-type {\n",
       "        vertical-align: middle;\n",
       "    }\n",
       "\n",
       "    .dataframe tbody tr th {\n",
       "        vertical-align: top;\n",
       "    }\n",
       "\n",
       "    .dataframe thead th {\n",
       "        text-align: right;\n",
       "    }\n",
       "</style>\n",
       "<table border=\"1\" class=\"dataframe\">\n",
       "  <thead>\n",
       "    <tr style=\"text-align: right;\">\n",
       "      <th></th>\n",
       "      <th>Energy</th>\n",
       "      <th>Danceability</th>\n",
       "      <th>Loudness</th>\n",
       "      <th>Acousticness</th>\n",
       "      <th>Speechiness</th>\n",
       "      <th>Instrumentalness</th>\n",
       "      <th>Liveness</th>\n",
       "      <th>Valence</th>\n",
       "      <th>Beats per Minute</th>\n",
       "      <th>Duration in Milliseconds</th>\n",
       "    </tr>\n",
       "  </thead>\n",
       "  <tbody>\n",
       "    <tr>\n",
       "      <th>count</th>\n",
       "      <td>50.000000</td>\n",
       "      <td>50.000000</td>\n",
       "      <td>50.000000</td>\n",
       "      <td>50.000000</td>\n",
       "      <td>50.000000</td>\n",
       "      <td>50.000000</td>\n",
       "      <td>50.000000</td>\n",
       "      <td>50.000000</td>\n",
       "      <td>50.000000</td>\n",
       "      <td>50.000000</td>\n",
       "    </tr>\n",
       "    <tr>\n",
       "      <th>mean</th>\n",
       "      <td>0.609300</td>\n",
       "      <td>0.716720</td>\n",
       "      <td>-6.225900</td>\n",
       "      <td>0.256206</td>\n",
       "      <td>0.124158</td>\n",
       "      <td>0.015962</td>\n",
       "      <td>0.196552</td>\n",
       "      <td>0.555710</td>\n",
       "      <td>119.690460</td>\n",
       "      <td>199955.360000</td>\n",
       "    </tr>\n",
       "    <tr>\n",
       "      <th>std</th>\n",
       "      <td>0.154348</td>\n",
       "      <td>0.124975</td>\n",
       "      <td>2.349744</td>\n",
       "      <td>0.265250</td>\n",
       "      <td>0.116836</td>\n",
       "      <td>0.094312</td>\n",
       "      <td>0.176610</td>\n",
       "      <td>0.216386</td>\n",
       "      <td>25.414778</td>\n",
       "      <td>33996.122488</td>\n",
       "    </tr>\n",
       "    <tr>\n",
       "      <th>min</th>\n",
       "      <td>0.225000</td>\n",
       "      <td>0.351000</td>\n",
       "      <td>-14.454000</td>\n",
       "      <td>0.001460</td>\n",
       "      <td>0.029000</td>\n",
       "      <td>0.000000</td>\n",
       "      <td>0.057400</td>\n",
       "      <td>0.060500</td>\n",
       "      <td>75.801000</td>\n",
       "      <td>140526.000000</td>\n",
       "    </tr>\n",
       "    <tr>\n",
       "      <th>25%</th>\n",
       "      <td>0.494000</td>\n",
       "      <td>0.672500</td>\n",
       "      <td>-7.552500</td>\n",
       "      <td>0.052800</td>\n",
       "      <td>0.048325</td>\n",
       "      <td>0.000000</td>\n",
       "      <td>0.093950</td>\n",
       "      <td>0.434000</td>\n",
       "      <td>99.557250</td>\n",
       "      <td>175845.500000</td>\n",
       "    </tr>\n",
       "    <tr>\n",
       "      <th>50%</th>\n",
       "      <td>0.597000</td>\n",
       "      <td>0.746000</td>\n",
       "      <td>-5.991500</td>\n",
       "      <td>0.188500</td>\n",
       "      <td>0.070050</td>\n",
       "      <td>0.000000</td>\n",
       "      <td>0.111000</td>\n",
       "      <td>0.560000</td>\n",
       "      <td>116.969000</td>\n",
       "      <td>197853.500000</td>\n",
       "    </tr>\n",
       "    <tr>\n",
       "      <th>75%</th>\n",
       "      <td>0.729750</td>\n",
       "      <td>0.794500</td>\n",
       "      <td>-4.285500</td>\n",
       "      <td>0.298750</td>\n",
       "      <td>0.155500</td>\n",
       "      <td>0.000020</td>\n",
       "      <td>0.271250</td>\n",
       "      <td>0.726250</td>\n",
       "      <td>132.317000</td>\n",
       "      <td>215064.000000</td>\n",
       "    </tr>\n",
       "    <tr>\n",
       "      <th>max</th>\n",
       "      <td>0.855000</td>\n",
       "      <td>0.935000</td>\n",
       "      <td>-3.280000</td>\n",
       "      <td>0.934000</td>\n",
       "      <td>0.487000</td>\n",
       "      <td>0.657000</td>\n",
       "      <td>0.792000</td>\n",
       "      <td>0.925000</td>\n",
       "      <td>180.067000</td>\n",
       "      <td>312820.000000</td>\n",
       "    </tr>\n",
       "  </tbody>\n",
       "</table>\n",
       "</div>"
      ],
      "text/plain": [
       "          Energy  Danceability   Loudness  Acousticness  Speechiness  \\\n",
       "count  50.000000     50.000000  50.000000     50.000000    50.000000   \n",
       "mean    0.609300      0.716720  -6.225900      0.256206     0.124158   \n",
       "std     0.154348      0.124975   2.349744      0.265250     0.116836   \n",
       "min     0.225000      0.351000 -14.454000      0.001460     0.029000   \n",
       "25%     0.494000      0.672500  -7.552500      0.052800     0.048325   \n",
       "50%     0.597000      0.746000  -5.991500      0.188500     0.070050   \n",
       "75%     0.729750      0.794500  -4.285500      0.298750     0.155500   \n",
       "max     0.855000      0.935000  -3.280000      0.934000     0.487000   \n",
       "\n",
       "       Instrumentalness   Liveness    Valence  Beats per Minute  \\\n",
       "count         50.000000  50.000000  50.000000         50.000000   \n",
       "mean           0.015962   0.196552   0.555710        119.690460   \n",
       "std            0.094312   0.176610   0.216386         25.414778   \n",
       "min            0.000000   0.057400   0.060500         75.801000   \n",
       "25%            0.000000   0.093950   0.434000         99.557250   \n",
       "50%            0.000000   0.111000   0.560000        116.969000   \n",
       "75%            0.000020   0.271250   0.726250        132.317000   \n",
       "max            0.657000   0.792000   0.925000        180.067000   \n",
       "\n",
       "       Duration in Milliseconds  \n",
       "count                 50.000000  \n",
       "mean              199955.360000  \n",
       "std                33996.122488  \n",
       "min               140526.000000  \n",
       "25%               175845.500000  \n",
       "50%               197853.500000  \n",
       "75%               215064.000000  \n",
       "max               312820.000000  "
      ]
     },
     "execution_count": 14,
     "metadata": {},
     "output_type": "execute_result"
    }
   ],
   "source": [
    "tracks.describe()"
   ]
  },
  {
   "cell_type": "markdown",
   "metadata": {},
   "source": [
    "**Observing extreme outliers using Tukey's fences to detect the most significant deviations (Source: https://aakinshin.net/posts/tukey-outlier-probability/)**"
   ]
  },
  {
   "cell_type": "code",
   "execution_count": 15,
   "metadata": {},
   "outputs": [
    {
     "name": "stdout",
     "output_type": "stream",
     "text": [
      "Speechiness - Extreme outliers:\n",
      "    Artist                  Track Name  Speechiness\n",
      "19  Future  Life Is Good (feat. Drake)        0.487\n",
      "\n",
      "\n",
      "Instrumentalness - Extreme outliers:\n",
      "             Artist                            Track Name  Instrumentalness\n",
      "0        The Weeknd                       Blinding Lights          0.000095\n",
      "10          KAROL G                                  Tusa          0.000134\n",
      "1       Tones And I                          Dance Monkey          0.000161\n",
      "33            BENEE      Supalonely (feat. Gus Dapperton)          0.000209\n",
      "48         Dua Lipa                              Physical          0.000658\n",
      "41  Black Eyed Peas             RITMO (Bad Boys For Life)          0.001090\n",
      "34        Surf Mesa  ily (i love you baby) (feat. Emilee)          0.001880\n",
      "12      Post Malone                               Circles          0.002440\n",
      "3         SAINt JHN                 Roses - Imanbek Remix          0.004320\n",
      "26    Billie Eilish                               bad guy          0.130000\n",
      "24    Billie Eilish                   everything i wanted          0.657000\n",
      "\n",
      "\n"
     ]
    }
   ],
   "source": [
    "# Select numeric features\n",
    "numeric_features = tracks.select_dtypes(include=[\"number\"]).columns.tolist()\n",
    "\n",
    "# Initialize empty dictionaries to store the outliers\n",
    "extreme_outliers_dict = {}\n",
    "\n",
    "# Loop over each numeric column\n",
    "for col in numeric_features:\n",
    "    # Calculate Q1, Q3, and IQR for each column\n",
    "    Q1 = tracks[col].quantile(0.25)\n",
    "    Q3 = tracks[col].quantile(0.75)\n",
    "    IQR = Q3 - Q1\n",
    "\n",
    "    # Calculate the outer fences for extreme outliers\n",
    "    outer_lower_fence = Q1 - 3 * IQR\n",
    "    outer_upper_fence = Q3 + 3 * IQR\n",
    "\n",
    "    # Identify extreme outliers (outside the outer fence)\n",
    "    extreme_outliers = tracks[\n",
    "        (tracks[col] < outer_lower_fence) | (tracks[col] > outer_upper_fence)\n",
    "    ]\n",
    "\n",
    "    # Store the outliers in the dictionary as Track Name and Outlier Values\n",
    "    if not extreme_outliers.empty:  # Only add to dict if there are outliers\n",
    "        extreme_outliers_dict[col] = extreme_outliers[\n",
    "            [\"Artist\", \"Track Name\", col]\n",
    "        ].sort_values(by=col)\n",
    "\n",
    "# Display results\n",
    "for col, outliers in extreme_outliers_dict.items():\n",
    "    print(f\"{col} - Extreme outliers:\")\n",
    "    print(outliers)\n",
    "    print(\"\\n\")"
   ]
  },
  {
   "cell_type": "markdown",
   "metadata": {},
   "source": [
    "**Keep upper extreme outliers of Speechiness and Instrumentalness but limit their impact and replace outliers with a capped values.**"
   ]
  },
  {
   "cell_type": "code",
   "execution_count": 16,
   "metadata": {},
   "outputs": [
    {
     "data": {
      "text/plain": [
       "Speechiness\n",
       "0.0290    1\n",
       "0.0317    1\n",
       "0.0319    1\n",
       "0.0333    1\n",
       "0.0364    1\n",
       "0.0369    1\n",
       "0.0383    1\n",
       "0.0395    1\n",
       "0.0397    1\n",
       "0.0418    1\n",
       "0.0457    1\n",
       "0.0465    1\n",
       "0.0483    1\n",
       "0.0484    1\n",
       "0.0506    1\n",
       "0.0514    1\n",
       "0.0515    1\n",
       "0.0546    1\n",
       "0.0559    1\n",
       "0.0571    1\n",
       "0.0573    1\n",
       "0.0575    2\n",
       "0.0578    1\n",
       "0.0598    1\n",
       "0.0803    1\n",
       "0.0830    1\n",
       "0.0874    1\n",
       "0.0883    1\n",
       "0.0892    1\n",
       "0.0958    1\n",
       "0.0988    1\n",
       "0.0993    1\n",
       "0.0994    1\n",
       "0.1290    1\n",
       "0.1350    1\n",
       "0.1480    1\n",
       "0.1580    1\n",
       "0.1640    1\n",
       "0.2000    1\n",
       "0.2090    1\n",
       "0.2180    1\n",
       "0.2220    1\n",
       "0.2980    1\n",
       "0.3420    1\n",
       "0.3750    2\n",
       "0.3790    1\n",
       "0.3890    1\n",
       "0.4870    1\n",
       "Name: count, dtype: int64"
      ]
     },
     "execution_count": 16,
     "metadata": {},
     "output_type": "execute_result"
    }
   ],
   "source": [
    "# Calculate and sort the counts of Speechiness values in ascending order\n",
    "Speechiness_counts = tracks[\"Speechiness\"].value_counts().sort_index(ascending=True)\n",
    "\n",
    "# Display the result\n",
    "Speechiness_counts"
   ]
  },
  {
   "cell_type": "code",
   "execution_count": 17,
   "metadata": {},
   "outputs": [
    {
     "name": "stdout",
     "output_type": "stream",
     "text": [
      "quantile_97: 0.38430000000000003, quantile_98: 0.39095999999999964, quantile_99: 0.4389799999999998\n"
     ]
    }
   ],
   "source": [
    "# Calculate quantiles\n",
    "quantile_97 = tracks[\"Speechiness\"].quantile(0.97)\n",
    "quantile_98 = tracks[\"Speechiness\"].quantile(0.98)\n",
    "quantile_99 = tracks[\"Speechiness\"].quantile(0.99)\n",
    "print(\n",
    "    f\"quantile_97: {quantile_97}, quantile_98: {quantile_98}, quantile_99: {quantile_99}\"\n",
    ")"
   ]
  },
  {
   "cell_type": "code",
   "execution_count": 18,
   "metadata": {},
   "outputs": [],
   "source": [
    "# Select quantile_98 to replace outlier by higher than the last non-outlier value\n",
    "tracks[\"Speechiness\"] = tracks[\"Speechiness\"].clip(upper=quantile_98)"
   ]
  },
  {
   "cell_type": "code",
   "execution_count": 19,
   "metadata": {},
   "outputs": [
    {
     "data": {
      "text/plain": [
       "Instrumentalness\n",
       "0.000000    32\n",
       "0.000001     1\n",
       "0.000003     1\n",
       "0.000004     1\n",
       "0.000006     1\n",
       "0.000007     1\n",
       "0.000025     1\n",
       "0.000064     1\n",
       "0.000095     1\n",
       "0.000134     1\n",
       "0.000161     1\n",
       "0.000209     1\n",
       "0.000658     1\n",
       "0.001090     1\n",
       "0.001880     1\n",
       "0.002440     1\n",
       "0.004320     1\n",
       "0.130000     1\n",
       "0.657000     1\n",
       "Name: count, dtype: int64"
      ]
     },
     "execution_count": 19,
     "metadata": {},
     "output_type": "execute_result"
    }
   ],
   "source": [
    "# Calculate and sort the counts of Instrumentalness values in ascending order\n",
    "Instrumentalness_counts = (\n",
    "    tracks[\"Instrumentalness\"].value_counts().sort_index(ascending=True)\n",
    ")\n",
    "\n",
    "# Display the result\n",
    "Instrumentalness_counts"
   ]
  },
  {
   "cell_type": "code",
   "execution_count": 20,
   "metadata": {},
   "outputs": [
    {
     "name": "stdout",
     "output_type": "stream",
     "text": [
      "quantile_95: 0.0034739999999999945, quantile_96: 0.009347199999999892, quantile_97: 0.07093040000000014\n"
     ]
    }
   ],
   "source": [
    "# Calculate quantiles\n",
    "quantile_95 = tracks[\"Instrumentalness\"].quantile(0.95)\n",
    "quantile_96 = tracks[\"Instrumentalness\"].quantile(0.96)\n",
    "quantile_97 = tracks[\"Instrumentalness\"].quantile(0.97)\n",
    "print(\n",
    "    f\"quantile_95: {quantile_95}, quantile_96: {quantile_96}, quantile_97: {quantile_97}\"\n",
    ")"
   ]
  },
  {
   "cell_type": "code",
   "execution_count": 21,
   "metadata": {},
   "outputs": [],
   "source": [
    "# Select quantile_96 to replace the highest two outliers (0.130000 and 0.657000) by higher than the 3rd highest outlier value\n",
    "tracks[\"Instrumentalness\"] = tracks[\"Instrumentalness\"].clip(upper=quantile_96)"
   ]
  },
  {
   "cell_type": "markdown",
   "metadata": {},
   "source": [
    "## Answers to the task questions"
   ]
  },
  {
   "cell_type": "markdown",
   "metadata": {},
   "source": [
    "**How many observations are there in this dataset?**"
   ]
  },
  {
   "cell_type": "code",
   "execution_count": 22,
   "metadata": {},
   "outputs": [
    {
     "data": {
      "text/plain": [
       "50"
      ]
     },
     "execution_count": 22,
     "metadata": {},
     "output_type": "execute_result"
    }
   ],
   "source": [
    "number_observations = tracks.shape[0]\n",
    "number_observations"
   ]
  },
  {
   "cell_type": "markdown",
   "metadata": {},
   "source": [
    "**How many features this dataset has?**"
   ]
  },
  {
   "cell_type": "code",
   "execution_count": 23,
   "metadata": {},
   "outputs": [
    {
     "data": {
      "text/plain": [
       "15"
      ]
     },
     "execution_count": 23,
     "metadata": {},
     "output_type": "execute_result"
    }
   ],
   "source": [
    "number_features = tracks.shape[1]\n",
    "number_features"
   ]
  },
  {
   "cell_type": "markdown",
   "metadata": {},
   "source": [
    "**Which of the features are categorical?**"
   ]
  },
  {
   "cell_type": "code",
   "execution_count": 24,
   "metadata": {},
   "outputs": [
    {
     "data": {
      "text/plain": [
       "['Key', 'Artist', 'Album', 'Track Name', 'Genre']"
      ]
     },
     "execution_count": 24,
     "metadata": {},
     "output_type": "execute_result"
    }
   ],
   "source": [
    "categorical_features = tracks.select_dtypes(include=[\"category\"]).columns.tolist()\n",
    "categorical_features"
   ]
  },
  {
   "cell_type": "markdown",
   "metadata": {},
   "source": [
    "**Which of the features are numeric?**"
   ]
  },
  {
   "cell_type": "code",
   "execution_count": 25,
   "metadata": {},
   "outputs": [
    {
     "data": {
      "text/plain": [
       "['Energy',\n",
       " 'Danceability',\n",
       " 'Loudness',\n",
       " 'Acousticness',\n",
       " 'Speechiness',\n",
       " 'Instrumentalness',\n",
       " 'Liveness',\n",
       " 'Valence',\n",
       " 'Beats per Minute',\n",
       " 'Duration in Milliseconds']"
      ]
     },
     "execution_count": 25,
     "metadata": {},
     "output_type": "execute_result"
    }
   ],
   "source": [
    "numeric_features"
   ]
  },
  {
   "cell_type": "markdown",
   "metadata": {},
   "source": [
    "**Are there any artists that have more than 1 popular track? If yes, which and how many?**"
   ]
  },
  {
   "cell_type": "code",
   "execution_count": 26,
   "metadata": {},
   "outputs": [
    {
     "data": {
      "text/plain": [
       "Artist\n",
       "Billie Eilish    3\n",
       "Dua Lipa         3\n",
       "Travis Scott     3\n",
       "Lewis Capaldi    2\n",
       "Harry Styles     2\n",
       "Post Malone      2\n",
       "Justin Bieber    2\n",
       "Name: count, dtype: int64"
      ]
     },
     "execution_count": 26,
     "metadata": {},
     "output_type": "execute_result"
    }
   ],
   "source": [
    "artist_counts = tracks[\"Artist\"].value_counts()\n",
    "artists_with_more_songs = artist_counts[artist_counts > 1]\n",
    "artists_with_more_songs"
   ]
  },
  {
   "cell_type": "markdown",
   "metadata": {},
   "source": [
    "**Who was the most popular artist?**"
   ]
  },
  {
   "cell_type": "code",
   "execution_count": 27,
   "metadata": {},
   "outputs": [
    {
     "data": {
      "text/plain": [
       "Artist\n",
       "Billie Eilish    3\n",
       "Dua Lipa         3\n",
       "Travis Scott     3\n",
       "Name: count, dtype: int64"
      ]
     },
     "execution_count": 27,
     "metadata": {},
     "output_type": "execute_result"
    }
   ],
   "source": [
    "# Find the maximum number of songs by any artist\n",
    "max_songs = artist_counts.max()\n",
    "\n",
    "# Filter artists who have the maximum number of songs\n",
    "artists_with_max_songs = artist_counts[artist_counts == max_songs]\n",
    "\n",
    "# Display the result\n",
    "artists_with_max_songs"
   ]
  },
  {
   "cell_type": "markdown",
   "metadata": {},
   "source": [
    "**Now I am selecting the artist with the lowest sum of indices as the most popular, assuming that a lower index sum indicates the most listened tracks on Spotify.**"
   ]
  },
  {
   "cell_type": "code",
   "execution_count": 28,
   "metadata": {},
   "outputs": [
    {
     "name": "stdout",
     "output_type": "stream",
     "text": [
      "Artist\n",
      "Billie Eilish     94\n",
      "Dua Lipa          83\n",
      "Travis Scott     125\n",
      "dtype: int64\n",
      "\n",
      "\n",
      "The most popular artist based on maximum number of songs and index sum is: Dua Lipa\n"
     ]
    }
   ],
   "source": [
    "# Filter only the artists with the maximum number of tracks\n",
    "popular_artist = artists_with_max_songs.index\n",
    "\n",
    "# Filter the dataset for rows corresponding to the popular artists\n",
    "popular_artist_tracks = tracks[tracks[\"Artist\"].isin(popular_artist)]\n",
    "\n",
    "# Group by 'Artist' and sum the indices\n",
    "index_sum = popular_artist_tracks.groupby(\"Artist\", observed=True).apply(\n",
    "    lambda x: x.index.values.sum(), include_groups=False\n",
    ")\n",
    "\n",
    "# Find the artist with the minimum sum of indices\n",
    "most_popular_artist = index_sum.idxmin()\n",
    "\n",
    "# Print the index sums and the most popular artist\n",
    "print(index_sum)\n",
    "print(\"\\n\")\n",
    "print(\n",
    "    f\"The most popular artist based on maximum number of songs and index sum is: {most_popular_artist}\"\n",
    ")"
   ]
  },
  {
   "cell_type": "markdown",
   "metadata": {},
   "source": [
    "**How many artists in total have their songs in the top 50?**"
   ]
  },
  {
   "cell_type": "code",
   "execution_count": 29,
   "metadata": {},
   "outputs": [
    {
     "data": {
      "text/plain": [
       "40"
      ]
     },
     "execution_count": 29,
     "metadata": {},
     "output_type": "execute_result"
    }
   ],
   "source": [
    "unique_artist_count = tracks[\"Artist\"].nunique()\n",
    "unique_artist_count"
   ]
  },
  {
   "cell_type": "markdown",
   "metadata": {},
   "source": [
    "**Are there any albums that have more than 1 popular track? If yes, which and how many?**"
   ]
  },
  {
   "cell_type": "code",
   "execution_count": 30,
   "metadata": {},
   "outputs": [
    {
     "data": {
      "text/plain": [
       "Album\n",
       "Future Nostalgia        3\n",
       "Fine Line               2\n",
       "Hollywood's Bleeding    2\n",
       "Changes                 2\n",
       "Name: count, dtype: int64"
      ]
     },
     "execution_count": 30,
     "metadata": {},
     "output_type": "execute_result"
    }
   ],
   "source": [
    "album_counts = tracks[\"Album\"].value_counts()\n",
    "albums_with_more_songs = album_counts[album_counts > 1]\n",
    "albums_with_more_songs"
   ]
  },
  {
   "cell_type": "markdown",
   "metadata": {},
   "source": [
    "**How many albums in total have their songs in the top 50?**"
   ]
  },
  {
   "cell_type": "code",
   "execution_count": 31,
   "metadata": {},
   "outputs": [
    {
     "data": {
      "text/plain": [
       "45"
      ]
     },
     "execution_count": 31,
     "metadata": {},
     "output_type": "execute_result"
    }
   ],
   "source": [
    "unique_album_count = tracks[\"Album\"].nunique()\n",
    "unique_album_count"
   ]
  },
  {
   "cell_type": "markdown",
   "metadata": {},
   "source": [
    "**Which tracks have a danceability score above 0.7?**"
   ]
  },
  {
   "cell_type": "code",
   "execution_count": 32,
   "metadata": {},
   "outputs": [
    {
     "data": {
      "text/html": [
       "<div>\n",
       "<style scoped>\n",
       "    .dataframe tbody tr th:only-of-type {\n",
       "        vertical-align: middle;\n",
       "    }\n",
       "\n",
       "    .dataframe tbody tr th {\n",
       "        vertical-align: top;\n",
       "    }\n",
       "\n",
       "    .dataframe thead th {\n",
       "        text-align: right;\n",
       "    }\n",
       "</style>\n",
       "<table border=\"1\" class=\"dataframe\">\n",
       "  <thead>\n",
       "    <tr style=\"text-align: right;\">\n",
       "      <th></th>\n",
       "      <th>Artist</th>\n",
       "      <th>Track Name</th>\n",
       "      <th>Danceability</th>\n",
       "    </tr>\n",
       "  </thead>\n",
       "  <tbody>\n",
       "    <tr>\n",
       "      <th>27</th>\n",
       "      <td>Cardi B</td>\n",
       "      <td>WAP (feat. Megan Thee Stallion)</td>\n",
       "      <td>0.935</td>\n",
       "    </tr>\n",
       "    <tr>\n",
       "      <th>2</th>\n",
       "      <td>Roddy Ricch</td>\n",
       "      <td>The Box</td>\n",
       "      <td>0.896</td>\n",
       "    </tr>\n",
       "    <tr>\n",
       "      <th>39</th>\n",
       "      <td>Regard</td>\n",
       "      <td>Ride It</td>\n",
       "      <td>0.880</td>\n",
       "    </tr>\n",
       "    <tr>\n",
       "      <th>28</th>\n",
       "      <td>Surfaces</td>\n",
       "      <td>Sunday Best</td>\n",
       "      <td>0.878</td>\n",
       "    </tr>\n",
       "    <tr>\n",
       "      <th>33</th>\n",
       "      <td>BENEE</td>\n",
       "      <td>Supalonely (feat. Gus Dapperton)</td>\n",
       "      <td>0.862</td>\n",
       "    </tr>\n",
       "    <tr>\n",
       "      <th>40</th>\n",
       "      <td>Travis Scott</td>\n",
       "      <td>goosebumps</td>\n",
       "      <td>0.841</td>\n",
       "    </tr>\n",
       "    <tr>\n",
       "      <th>49</th>\n",
       "      <td>Travis Scott</td>\n",
       "      <td>SICKO MODE</td>\n",
       "      <td>0.834</td>\n",
       "    </tr>\n",
       "    <tr>\n",
       "      <th>15</th>\n",
       "      <td>Drake</td>\n",
       "      <td>Toosie Slide</td>\n",
       "      <td>0.830</td>\n",
       "    </tr>\n",
       "    <tr>\n",
       "      <th>1</th>\n",
       "      <td>Tones And I</td>\n",
       "      <td>Dance Monkey</td>\n",
       "      <td>0.825</td>\n",
       "    </tr>\n",
       "    <tr>\n",
       "      <th>29</th>\n",
       "      <td>Eminem</td>\n",
       "      <td>Godzilla (feat. Juice WRLD)</td>\n",
       "      <td>0.808</td>\n",
       "    </tr>\n",
       "    <tr>\n",
       "      <th>14</th>\n",
       "      <td>Justin Bieber</td>\n",
       "      <td>Intentions (feat. Quavo)</td>\n",
       "      <td>0.806</td>\n",
       "    </tr>\n",
       "    <tr>\n",
       "      <th>10</th>\n",
       "      <td>KAROL G</td>\n",
       "      <td>Tusa</td>\n",
       "      <td>0.803</td>\n",
       "    </tr>\n",
       "    <tr>\n",
       "      <th>19</th>\n",
       "      <td>Future</td>\n",
       "      <td>Life Is Good (feat. Drake)</td>\n",
       "      <td>0.795</td>\n",
       "    </tr>\n",
       "    <tr>\n",
       "      <th>4</th>\n",
       "      <td>Dua Lipa</td>\n",
       "      <td>Don't Start Now</td>\n",
       "      <td>0.793</td>\n",
       "    </tr>\n",
       "    <tr>\n",
       "      <th>22</th>\n",
       "      <td>Topic</td>\n",
       "      <td>Breaking Me</td>\n",
       "      <td>0.789</td>\n",
       "    </tr>\n",
       "    <tr>\n",
       "      <th>17</th>\n",
       "      <td>Doja Cat</td>\n",
       "      <td>Say So</td>\n",
       "      <td>0.787</td>\n",
       "    </tr>\n",
       "    <tr>\n",
       "      <th>3</th>\n",
       "      <td>SAINt JHN</td>\n",
       "      <td>Roses - Imanbek Remix</td>\n",
       "      <td>0.785</td>\n",
       "    </tr>\n",
       "    <tr>\n",
       "      <th>8</th>\n",
       "      <td>Trevor Daniel</td>\n",
       "      <td>Falling</td>\n",
       "      <td>0.784</td>\n",
       "    </tr>\n",
       "    <tr>\n",
       "      <th>38</th>\n",
       "      <td>Maluma</td>\n",
       "      <td>Hawái</td>\n",
       "      <td>0.783</td>\n",
       "    </tr>\n",
       "    <tr>\n",
       "      <th>13</th>\n",
       "      <td>Lil Mosey</td>\n",
       "      <td>Blueberry Faygo</td>\n",
       "      <td>0.774</td>\n",
       "    </tr>\n",
       "    <tr>\n",
       "      <th>20</th>\n",
       "      <td>Jawsh 685</td>\n",
       "      <td>Savage Love (Laxed - Siren Beat)</td>\n",
       "      <td>0.767</td>\n",
       "    </tr>\n",
       "    <tr>\n",
       "      <th>18</th>\n",
       "      <td>Maroon 5</td>\n",
       "      <td>Memories</td>\n",
       "      <td>0.764</td>\n",
       "    </tr>\n",
       "    <tr>\n",
       "      <th>25</th>\n",
       "      <td>Shawn Mendes</td>\n",
       "      <td>Señorita</td>\n",
       "      <td>0.759</td>\n",
       "    </tr>\n",
       "    <tr>\n",
       "      <th>37</th>\n",
       "      <td>Post Malone</td>\n",
       "      <td>Sunflower - Spider-Man: Into the Spider-Verse</td>\n",
       "      <td>0.755</td>\n",
       "    </tr>\n",
       "    <tr>\n",
       "      <th>32</th>\n",
       "      <td>BTS</td>\n",
       "      <td>Dynamite</td>\n",
       "      <td>0.746</td>\n",
       "    </tr>\n",
       "    <tr>\n",
       "      <th>5</th>\n",
       "      <td>DaBaby</td>\n",
       "      <td>ROCKSTAR (feat. Roddy Ricch)</td>\n",
       "      <td>0.746</td>\n",
       "    </tr>\n",
       "    <tr>\n",
       "      <th>31</th>\n",
       "      <td>Dua Lipa</td>\n",
       "      <td>Break My Heart</td>\n",
       "      <td>0.730</td>\n",
       "    </tr>\n",
       "    <tr>\n",
       "      <th>7</th>\n",
       "      <td>Powfu</td>\n",
       "      <td>death bed (coffee for your head)</td>\n",
       "      <td>0.726</td>\n",
       "    </tr>\n",
       "    <tr>\n",
       "      <th>41</th>\n",
       "      <td>Black Eyed Peas</td>\n",
       "      <td>RITMO (Bad Boys For Life)</td>\n",
       "      <td>0.723</td>\n",
       "    </tr>\n",
       "    <tr>\n",
       "      <th>42</th>\n",
       "      <td>THE SCOTTS</td>\n",
       "      <td>THE SCOTTS</td>\n",
       "      <td>0.716</td>\n",
       "    </tr>\n",
       "    <tr>\n",
       "      <th>24</th>\n",
       "      <td>Billie Eilish</td>\n",
       "      <td>everything i wanted</td>\n",
       "      <td>0.704</td>\n",
       "    </tr>\n",
       "    <tr>\n",
       "      <th>26</th>\n",
       "      <td>Billie Eilish</td>\n",
       "      <td>bad guy</td>\n",
       "      <td>0.701</td>\n",
       "    </tr>\n",
       "  </tbody>\n",
       "</table>\n",
       "</div>"
      ],
      "text/plain": [
       "             Artist                                     Track Name  \\\n",
       "27          Cardi B                WAP (feat. Megan Thee Stallion)   \n",
       "2       Roddy Ricch                                        The Box   \n",
       "39           Regard                                        Ride It   \n",
       "28         Surfaces                                    Sunday Best   \n",
       "33            BENEE               Supalonely (feat. Gus Dapperton)   \n",
       "40     Travis Scott                                     goosebumps   \n",
       "49     Travis Scott                                     SICKO MODE   \n",
       "15            Drake                                   Toosie Slide   \n",
       "1       Tones And I                                   Dance Monkey   \n",
       "29           Eminem                    Godzilla (feat. Juice WRLD)   \n",
       "14    Justin Bieber                       Intentions (feat. Quavo)   \n",
       "10          KAROL G                                           Tusa   \n",
       "19           Future                     Life Is Good (feat. Drake)   \n",
       "4          Dua Lipa                                Don't Start Now   \n",
       "22            Topic                                    Breaking Me   \n",
       "17         Doja Cat                                         Say So   \n",
       "3         SAINt JHN                          Roses - Imanbek Remix   \n",
       "8     Trevor Daniel                                        Falling   \n",
       "38           Maluma                                          Hawái   \n",
       "13        Lil Mosey                                Blueberry Faygo   \n",
       "20        Jawsh 685               Savage Love (Laxed - Siren Beat)   \n",
       "18         Maroon 5                                       Memories   \n",
       "25     Shawn Mendes                                       Señorita   \n",
       "37      Post Malone  Sunflower - Spider-Man: Into the Spider-Verse   \n",
       "32              BTS                                       Dynamite   \n",
       "5            DaBaby                   ROCKSTAR (feat. Roddy Ricch)   \n",
       "31         Dua Lipa                                 Break My Heart   \n",
       "7             Powfu               death bed (coffee for your head)   \n",
       "41  Black Eyed Peas                      RITMO (Bad Boys For Life)   \n",
       "42       THE SCOTTS                                     THE SCOTTS   \n",
       "24    Billie Eilish                            everything i wanted   \n",
       "26    Billie Eilish                                        bad guy   \n",
       "\n",
       "    Danceability  \n",
       "27         0.935  \n",
       "2          0.896  \n",
       "39         0.880  \n",
       "28         0.878  \n",
       "33         0.862  \n",
       "40         0.841  \n",
       "49         0.834  \n",
       "15         0.830  \n",
       "1          0.825  \n",
       "29         0.808  \n",
       "14         0.806  \n",
       "10         0.803  \n",
       "19         0.795  \n",
       "4          0.793  \n",
       "22         0.789  \n",
       "17         0.787  \n",
       "3          0.785  \n",
       "8          0.784  \n",
       "38         0.783  \n",
       "13         0.774  \n",
       "20         0.767  \n",
       "18         0.764  \n",
       "25         0.759  \n",
       "37         0.755  \n",
       "32         0.746  \n",
       "5          0.746  \n",
       "31         0.730  \n",
       "7          0.726  \n",
       "41         0.723  \n",
       "42         0.716  \n",
       "24         0.704  \n",
       "26         0.701  "
      ]
     },
     "execution_count": 32,
     "metadata": {},
     "output_type": "execute_result"
    }
   ],
   "source": [
    "high_danceability_tracks = tracks[tracks[\"Danceability\"] > 0.7][\n",
    "    [\"Artist\", \"Track Name\", \"Danceability\"]\n",
    "].sort_values(by=\"Danceability\", ascending=False)\n",
    "high_danceability_tracks"
   ]
  },
  {
   "cell_type": "markdown",
   "metadata": {},
   "source": [
    "**Which tracks have a danceability score below 0.4?**"
   ]
  },
  {
   "cell_type": "code",
   "execution_count": 33,
   "metadata": {},
   "outputs": [
    {
     "data": {
      "text/html": [
       "<div>\n",
       "<style scoped>\n",
       "    .dataframe tbody tr th:only-of-type {\n",
       "        vertical-align: middle;\n",
       "    }\n",
       "\n",
       "    .dataframe tbody tr th {\n",
       "        vertical-align: top;\n",
       "    }\n",
       "\n",
       "    .dataframe thead th {\n",
       "        text-align: right;\n",
       "    }\n",
       "</style>\n",
       "<table border=\"1\" class=\"dataframe\">\n",
       "  <thead>\n",
       "    <tr style=\"text-align: right;\">\n",
       "      <th></th>\n",
       "      <th>Artist</th>\n",
       "      <th>Track Name</th>\n",
       "      <th>Danceability</th>\n",
       "    </tr>\n",
       "  </thead>\n",
       "  <tbody>\n",
       "    <tr>\n",
       "      <th>44</th>\n",
       "      <td>Billie Eilish</td>\n",
       "      <td>lovely (with Khalid)</td>\n",
       "      <td>0.351</td>\n",
       "    </tr>\n",
       "  </tbody>\n",
       "</table>\n",
       "</div>"
      ],
      "text/plain": [
       "           Artist            Track Name  Danceability\n",
       "44  Billie Eilish  lovely (with Khalid)         0.351"
      ]
     },
     "execution_count": 33,
     "metadata": {},
     "output_type": "execute_result"
    }
   ],
   "source": [
    "low_danceability_tracks = tracks[tracks[\"Danceability\"] < 0.4][\n",
    "    [\"Artist\", \"Track Name\", \"Danceability\"]\n",
    "]\n",
    "low_danceability_tracks"
   ]
  },
  {
   "cell_type": "markdown",
   "metadata": {},
   "source": [
    "**Which tracks have their loudness above -5?**"
   ]
  },
  {
   "cell_type": "code",
   "execution_count": 34,
   "metadata": {},
   "outputs": [
    {
     "data": {
      "text/html": [
       "<div>\n",
       "<style scoped>\n",
       "    .dataframe tbody tr th:only-of-type {\n",
       "        vertical-align: middle;\n",
       "    }\n",
       "\n",
       "    .dataframe tbody tr th {\n",
       "        vertical-align: top;\n",
       "    }\n",
       "\n",
       "    .dataframe thead th {\n",
       "        text-align: right;\n",
       "    }\n",
       "</style>\n",
       "<table border=\"1\" class=\"dataframe\">\n",
       "  <thead>\n",
       "    <tr style=\"text-align: right;\">\n",
       "      <th></th>\n",
       "      <th>Artist</th>\n",
       "      <th>Track Name</th>\n",
       "      <th>Loudness</th>\n",
       "    </tr>\n",
       "  </thead>\n",
       "  <tbody>\n",
       "    <tr>\n",
       "      <th>10</th>\n",
       "      <td>KAROL G</td>\n",
       "      <td>Tusa</td>\n",
       "      <td>-3.280</td>\n",
       "    </tr>\n",
       "    <tr>\n",
       "      <th>40</th>\n",
       "      <td>Travis Scott</td>\n",
       "      <td>goosebumps</td>\n",
       "      <td>-3.370</td>\n",
       "    </tr>\n",
       "    <tr>\n",
       "      <th>31</th>\n",
       "      <td>Dua Lipa</td>\n",
       "      <td>Break My Heart</td>\n",
       "      <td>-3.434</td>\n",
       "    </tr>\n",
       "    <tr>\n",
       "      <th>38</th>\n",
       "      <td>Maluma</td>\n",
       "      <td>Hawái</td>\n",
       "      <td>-3.454</td>\n",
       "    </tr>\n",
       "    <tr>\n",
       "      <th>12</th>\n",
       "      <td>Post Malone</td>\n",
       "      <td>Circles</td>\n",
       "      <td>-3.497</td>\n",
       "    </tr>\n",
       "    <tr>\n",
       "      <th>23</th>\n",
       "      <td>24kGoldn</td>\n",
       "      <td>Mood (feat. iann dior)</td>\n",
       "      <td>-3.558</td>\n",
       "    </tr>\n",
       "    <tr>\n",
       "      <th>21</th>\n",
       "      <td>Harry Styles</td>\n",
       "      <td>Adore You</td>\n",
       "      <td>-3.675</td>\n",
       "    </tr>\n",
       "    <tr>\n",
       "      <th>49</th>\n",
       "      <td>Travis Scott</td>\n",
       "      <td>SICKO MODE</td>\n",
       "      <td>-3.714</td>\n",
       "    </tr>\n",
       "    <tr>\n",
       "      <th>48</th>\n",
       "      <td>Dua Lipa</td>\n",
       "      <td>Physical</td>\n",
       "      <td>-3.756</td>\n",
       "    </tr>\n",
       "    <tr>\n",
       "      <th>35</th>\n",
       "      <td>Lady Gaga</td>\n",
       "      <td>Rain On Me (with Ariana Grande)</td>\n",
       "      <td>-3.764</td>\n",
       "    </tr>\n",
       "    <tr>\n",
       "      <th>43</th>\n",
       "      <td>Bad Bunny</td>\n",
       "      <td>Safaera</td>\n",
       "      <td>-4.074</td>\n",
       "    </tr>\n",
       "    <tr>\n",
       "      <th>6</th>\n",
       "      <td>Harry Styles</td>\n",
       "      <td>Watermelon Sugar</td>\n",
       "      <td>-4.209</td>\n",
       "    </tr>\n",
       "    <tr>\n",
       "      <th>39</th>\n",
       "      <td>Regard</td>\n",
       "      <td>Ride It</td>\n",
       "      <td>-4.258</td>\n",
       "    </tr>\n",
       "    <tr>\n",
       "      <th>37</th>\n",
       "      <td>Post Malone</td>\n",
       "      <td>Sunflower - Spider-Man: Into the Spider-Verse</td>\n",
       "      <td>-4.368</td>\n",
       "    </tr>\n",
       "    <tr>\n",
       "      <th>32</th>\n",
       "      <td>BTS</td>\n",
       "      <td>Dynamite</td>\n",
       "      <td>-4.410</td>\n",
       "    </tr>\n",
       "    <tr>\n",
       "      <th>4</th>\n",
       "      <td>Dua Lipa</td>\n",
       "      <td>Don't Start Now</td>\n",
       "      <td>-4.521</td>\n",
       "    </tr>\n",
       "    <tr>\n",
       "      <th>17</th>\n",
       "      <td>Doja Cat</td>\n",
       "      <td>Say So</td>\n",
       "      <td>-4.577</td>\n",
       "    </tr>\n",
       "    <tr>\n",
       "      <th>33</th>\n",
       "      <td>BENEE</td>\n",
       "      <td>Supalonely (feat. Gus Dapperton)</td>\n",
       "      <td>-4.746</td>\n",
       "    </tr>\n",
       "    <tr>\n",
       "      <th>16</th>\n",
       "      <td>Lewis Capaldi</td>\n",
       "      <td>Before You Go</td>\n",
       "      <td>-4.858</td>\n",
       "    </tr>\n",
       "  </tbody>\n",
       "</table>\n",
       "</div>"
      ],
      "text/plain": [
       "           Artist                                     Track Name  Loudness\n",
       "10        KAROL G                                           Tusa    -3.280\n",
       "40   Travis Scott                                     goosebumps    -3.370\n",
       "31       Dua Lipa                                 Break My Heart    -3.434\n",
       "38         Maluma                                          Hawái    -3.454\n",
       "12    Post Malone                                        Circles    -3.497\n",
       "23       24kGoldn                         Mood (feat. iann dior)    -3.558\n",
       "21   Harry Styles                                      Adore You    -3.675\n",
       "49   Travis Scott                                     SICKO MODE    -3.714\n",
       "48       Dua Lipa                                       Physical    -3.756\n",
       "35      Lady Gaga                Rain On Me (with Ariana Grande)    -3.764\n",
       "43      Bad Bunny                                        Safaera    -4.074\n",
       "6    Harry Styles                               Watermelon Sugar    -4.209\n",
       "39         Regard                                        Ride It    -4.258\n",
       "37    Post Malone  Sunflower - Spider-Man: Into the Spider-Verse    -4.368\n",
       "32            BTS                                       Dynamite    -4.410\n",
       "4        Dua Lipa                                Don't Start Now    -4.521\n",
       "17       Doja Cat                                         Say So    -4.577\n",
       "33          BENEE               Supalonely (feat. Gus Dapperton)    -4.746\n",
       "16  Lewis Capaldi                                  Before You Go    -4.858"
      ]
     },
     "execution_count": 34,
     "metadata": {},
     "output_type": "execute_result"
    }
   ],
   "source": [
    "high_loudness_tracks = tracks[tracks[\"Loudness\"] > -5][\n",
    "    [\"Artist\", \"Track Name\", \"Loudness\"]\n",
    "].sort_values(by=\"Loudness\", ascending=False)\n",
    "high_loudness_tracks"
   ]
  },
  {
   "cell_type": "markdown",
   "metadata": {},
   "source": [
    "**Which tracks have their loudness below -8?**"
   ]
  },
  {
   "cell_type": "code",
   "execution_count": 35,
   "metadata": {},
   "outputs": [
    {
     "data": {
      "text/html": [
       "<div>\n",
       "<style scoped>\n",
       "    .dataframe tbody tr th:only-of-type {\n",
       "        vertical-align: middle;\n",
       "    }\n",
       "\n",
       "    .dataframe tbody tr th {\n",
       "        vertical-align: top;\n",
       "    }\n",
       "\n",
       "    .dataframe thead th {\n",
       "        text-align: right;\n",
       "    }\n",
       "</style>\n",
       "<table border=\"1\" class=\"dataframe\">\n",
       "  <thead>\n",
       "    <tr style=\"text-align: right;\">\n",
       "      <th></th>\n",
       "      <th>Artist</th>\n",
       "      <th>Track Name</th>\n",
       "      <th>Loudness</th>\n",
       "    </tr>\n",
       "  </thead>\n",
       "  <tbody>\n",
       "    <tr>\n",
       "      <th>24</th>\n",
       "      <td>Billie Eilish</td>\n",
       "      <td>everything i wanted</td>\n",
       "      <td>-14.454</td>\n",
       "    </tr>\n",
       "    <tr>\n",
       "      <th>26</th>\n",
       "      <td>Billie Eilish</td>\n",
       "      <td>bad guy</td>\n",
       "      <td>-10.965</td>\n",
       "    </tr>\n",
       "    <tr>\n",
       "      <th>44</th>\n",
       "      <td>Billie Eilish</td>\n",
       "      <td>lovely (with Khalid)</td>\n",
       "      <td>-10.109</td>\n",
       "    </tr>\n",
       "    <tr>\n",
       "      <th>47</th>\n",
       "      <td>JP Saxe</td>\n",
       "      <td>If the World Was Ending - feat. Julia Michaels</td>\n",
       "      <td>-10.086</td>\n",
       "    </tr>\n",
       "    <tr>\n",
       "      <th>15</th>\n",
       "      <td>Drake</td>\n",
       "      <td>Toosie Slide</td>\n",
       "      <td>-8.820</td>\n",
       "    </tr>\n",
       "    <tr>\n",
       "      <th>7</th>\n",
       "      <td>Powfu</td>\n",
       "      <td>death bed (coffee for your head)</td>\n",
       "      <td>-8.765</td>\n",
       "    </tr>\n",
       "    <tr>\n",
       "      <th>36</th>\n",
       "      <td>Travis Scott</td>\n",
       "      <td>HIGHEST IN THE ROOM</td>\n",
       "      <td>-8.764</td>\n",
       "    </tr>\n",
       "    <tr>\n",
       "      <th>8</th>\n",
       "      <td>Trevor Daniel</td>\n",
       "      <td>Falling</td>\n",
       "      <td>-8.756</td>\n",
       "    </tr>\n",
       "    <tr>\n",
       "      <th>20</th>\n",
       "      <td>Jawsh 685</td>\n",
       "      <td>Savage Love (Laxed - Siren Beat)</td>\n",
       "      <td>-8.520</td>\n",
       "    </tr>\n",
       "  </tbody>\n",
       "</table>\n",
       "</div>"
      ],
      "text/plain": [
       "           Artist                                      Track Name  Loudness\n",
       "24  Billie Eilish                             everything i wanted   -14.454\n",
       "26  Billie Eilish                                         bad guy   -10.965\n",
       "44  Billie Eilish                            lovely (with Khalid)   -10.109\n",
       "47        JP Saxe  If the World Was Ending - feat. Julia Michaels   -10.086\n",
       "15          Drake                                    Toosie Slide    -8.820\n",
       "7           Powfu                death bed (coffee for your head)    -8.765\n",
       "36   Travis Scott                             HIGHEST IN THE ROOM    -8.764\n",
       "8   Trevor Daniel                                         Falling    -8.756\n",
       "20      Jawsh 685                Savage Love (Laxed - Siren Beat)    -8.520"
      ]
     },
     "execution_count": 35,
     "metadata": {},
     "output_type": "execute_result"
    }
   ],
   "source": [
    "low_loudness_tracks = tracks[tracks[\"Loudness\"] < -8][\n",
    "    [\"Artist\", \"Track Name\", \"Loudness\"]\n",
    "].sort_values(by=\"Loudness\")\n",
    "low_loudness_tracks"
   ]
  },
  {
   "cell_type": "markdown",
   "metadata": {},
   "source": [
    "**Which track is the longest?**"
   ]
  },
  {
   "cell_type": "code",
   "execution_count": 36,
   "metadata": {},
   "outputs": [
    {
     "data": {
      "text/html": [
       "<div>\n",
       "<style scoped>\n",
       "    .dataframe tbody tr th:only-of-type {\n",
       "        vertical-align: middle;\n",
       "    }\n",
       "\n",
       "    .dataframe tbody tr th {\n",
       "        vertical-align: top;\n",
       "    }\n",
       "\n",
       "    .dataframe thead th {\n",
       "        text-align: right;\n",
       "    }\n",
       "</style>\n",
       "<table border=\"1\" class=\"dataframe\">\n",
       "  <thead>\n",
       "    <tr style=\"text-align: right;\">\n",
       "      <th></th>\n",
       "      <th>Artist</th>\n",
       "      <th>Track Name</th>\n",
       "      <th>Duration in Milliseconds</th>\n",
       "    </tr>\n",
       "  </thead>\n",
       "  <tbody>\n",
       "    <tr>\n",
       "      <th>49</th>\n",
       "      <td>Travis Scott</td>\n",
       "      <td>SICKO MODE</td>\n",
       "      <td>312820</td>\n",
       "    </tr>\n",
       "  </tbody>\n",
       "</table>\n",
       "</div>"
      ],
      "text/plain": [
       "          Artist  Track Name  Duration in Milliseconds\n",
       "49  Travis Scott  SICKO MODE                    312820"
      ]
     },
     "execution_count": 36,
     "metadata": {},
     "output_type": "execute_result"
    }
   ],
   "source": [
    "longest = tracks[\"Duration in Milliseconds\"].max()\n",
    "longest_track = tracks[tracks[\"Duration in Milliseconds\"] == longest]\n",
    "longest_track[[\"Artist\", \"Track Name\", \"Duration in Milliseconds\"]]"
   ]
  },
  {
   "cell_type": "markdown",
   "metadata": {},
   "source": [
    "**Which track is the shortest?**"
   ]
  },
  {
   "cell_type": "code",
   "execution_count": 37,
   "metadata": {},
   "outputs": [
    {
     "data": {
      "text/html": [
       "<div>\n",
       "<style scoped>\n",
       "    .dataframe tbody tr th:only-of-type {\n",
       "        vertical-align: middle;\n",
       "    }\n",
       "\n",
       "    .dataframe tbody tr th {\n",
       "        vertical-align: top;\n",
       "    }\n",
       "\n",
       "    .dataframe thead th {\n",
       "        text-align: right;\n",
       "    }\n",
       "</style>\n",
       "<table border=\"1\" class=\"dataframe\">\n",
       "  <thead>\n",
       "    <tr style=\"text-align: right;\">\n",
       "      <th></th>\n",
       "      <th>Artist</th>\n",
       "      <th>Track Name</th>\n",
       "      <th>Duration in Milliseconds</th>\n",
       "    </tr>\n",
       "  </thead>\n",
       "  <tbody>\n",
       "    <tr>\n",
       "      <th>23</th>\n",
       "      <td>24kGoldn</td>\n",
       "      <td>Mood (feat. iann dior)</td>\n",
       "      <td>140526</td>\n",
       "    </tr>\n",
       "  </tbody>\n",
       "</table>\n",
       "</div>"
      ],
      "text/plain": [
       "      Artist              Track Name  Duration in Milliseconds\n",
       "23  24kGoldn  Mood (feat. iann dior)                    140526"
      ]
     },
     "execution_count": 37,
     "metadata": {},
     "output_type": "execute_result"
    }
   ],
   "source": [
    "shortest = tracks[\"Duration in Milliseconds\"].min()\n",
    "shortest_track = tracks[tracks[\"Duration in Milliseconds\"] == shortest]\n",
    "shortest_track[[\"Artist\", \"Track Name\", \"Duration in Milliseconds\"]]"
   ]
  },
  {
   "cell_type": "markdown",
   "metadata": {},
   "source": [
    "**Which genre is the most popular?**"
   ]
  },
  {
   "cell_type": "code",
   "execution_count": 38,
   "metadata": {},
   "outputs": [
    {
     "data": {
      "text/plain": [
       "Genre\n",
       "Pop    14\n",
       "Name: count, dtype: int64"
      ]
     },
     "execution_count": 38,
     "metadata": {},
     "output_type": "execute_result"
    }
   ],
   "source": [
    "genre_counts = tracks[\"Genre\"].value_counts()\n",
    "max_genre = genre_counts.max()\n",
    "genres_with_max_songs = genre_counts[genre_counts == max_genre]\n",
    "genres_with_max_songs"
   ]
  },
  {
   "cell_type": "markdown",
   "metadata": {},
   "source": [
    "**Which genres have just one song on the top 50?**"
   ]
  },
  {
   "cell_type": "code",
   "execution_count": 39,
   "metadata": {},
   "outputs": [
    {
     "data": {
      "text/plain": [
       "Genre\n",
       "Chamber pop                           1\n",
       "Alternative/reggaeton/experimental    1\n",
       "Dreampop/Hip-Hop/R&B                  1\n",
       "Disco-pop                             1\n",
       "Dance-pop/Disco                       1\n",
       "Hip-Hop/Trap                          1\n",
       "Nu-disco                              1\n",
       "Pop rap                               1\n",
       "Pop/Soft Rock                         1\n",
       "R&B/Hip-Hop alternative               1\n",
       "Name: count, dtype: int64"
      ]
     },
     "execution_count": 39,
     "metadata": {},
     "output_type": "execute_result"
    }
   ],
   "source": [
    "genres_with_1_song = genre_counts[genre_counts == 1]\n",
    "genres_with_1_song"
   ]
  },
  {
   "cell_type": "markdown",
   "metadata": {},
   "source": [
    "**How many genres in total are represented in the top 50?**"
   ]
  },
  {
   "cell_type": "code",
   "execution_count": 40,
   "metadata": {},
   "outputs": [
    {
     "data": {
      "text/plain": [
       "16"
      ]
     },
     "execution_count": 40,
     "metadata": {},
     "output_type": "execute_result"
    }
   ],
   "source": [
    "unique_genre_count = tracks[\"Genre\"].nunique()\n",
    "unique_genre_count"
   ]
  },
  {
   "cell_type": "code",
   "execution_count": 41,
   "metadata": {},
   "outputs": [
    {
     "data": {
      "image/png": "[encoded data removed]",
      "text/plain": [
       "<Figure size 720x576 with 2 Axes>"
      ]
     },
     "metadata": {
      "needs_background": "light"
     },
     "output_type": "display_data"
    }
   ],
   "source": [
    "# Calculate Pearson correlation of numeric features\n",
    "numeric_tracks = tracks.select_dtypes(include=[\"number\"])\n",
    "correlation_matrix = numeric_tracks.corr()\n",
    "\n",
    "# Create a heatmap to display the correlation matrix\n",
    "plt.figure(figsize=(10, 8))\n",
    "sns.heatmap(correlation_matrix, annot=True, cmap=\"coolwarm\", fmt=\".2f\", square=True)\n",
    "plt.show()"
   ]
  },
  {
   "cell_type": "markdown",
   "metadata": {},
   "source": [
    "**I determine features as strongly positively correlated if their correlation coefficient is 0.7 or higher, and strongly negatively correlated if the correlation is -0.7 or lower. For features that have a correlation between -0.3 and 0.3, I consider them as not correlated, as this range indicates little to no linear relationship. This classification is based on general practices for interpreting correlation strength, though some sources may suggest slightly different ranges.**"
   ]
  },
  {
   "cell_type": "markdown",
   "metadata": {},
   "source": [
    "**Which features are strongly positively correlated (correlation between 0.7 and 1)?**"
   ]
  },
  {
   "cell_type": "markdown",
   "metadata": {},
   "source": [
    "* <font color='red'>Energy / Loudness</font> (correlation 0.79)"
   ]
  },
  {
   "cell_type": "markdown",
   "metadata": {},
   "source": [
    "**Which features are strongly negatively correlated (correlation between -0.7 and -1)?**"
   ]
  },
  {
   "cell_type": "markdown",
   "metadata": {},
   "source": [
    "**None.** *However, features with correlations of -0.68 and -0.50 indicate moderate negative correlations, respectively:*\n",
    "* <font color='blue'>Energy / Acousticness</font>\n",
    "* <font color='blue'>Loudness / Acousticness</font>"
   ]
  },
  {
   "cell_type": "markdown",
   "metadata": {},
   "source": [
    "**Which features are not correlated (correlation between -0.3 and 0.3)?**"
   ]
  },
  {
   "cell_type": "code",
   "execution_count": 42,
   "metadata": {},
   "outputs": [
    {
     "name": "stdout",
     "output_type": "stream",
     "text": [
      "These features are not correlated (correlation value between -0.3 and 0.3):\n",
      "Energy and Danceability: 0.15\n",
      "Energy and Speechiness: 0.08\n",
      "Energy and Instrumentalness: -0.26\n",
      "Energy and Liveness: 0.07\n",
      "Energy and Beats per Minute: 0.08\n",
      "Energy and Duration in Milliseconds: 0.08\n",
      "Danceability and Energy: 0.15\n",
      "Danceability and Loudness: 0.17\n",
      "Danceability and Speechiness: 0.23\n",
      "Danceability and Instrumentalness: -0.01\n",
      "Danceability and Liveness: -0.01\n",
      "Danceability and Beats per Minute: 0.17\n",
      "Danceability and Duration in Milliseconds: -0.03\n",
      "Loudness and Danceability: 0.17\n",
      "Loudness and Speechiness: -0.02\n",
      "Loudness and Liveness: -0.07\n",
      "Loudness and Beats per Minute: 0.10\n",
      "Loudness and Duration in Milliseconds: 0.06\n",
      "Acousticness and Speechiness: -0.13\n",
      "Acousticness and Instrumentalness: 0.19\n",
      "Acousticness and Liveness: -0.13\n",
      "Acousticness and Valence: -0.24\n",
      "Acousticness and Beats per Minute: -0.24\n",
      "Acousticness and Duration in Milliseconds: -0.01\n",
      "Speechiness and Energy: 0.08\n",
      "Speechiness and Danceability: 0.23\n",
      "Speechiness and Loudness: -0.02\n",
      "Speechiness and Acousticness: -0.13\n",
      "Speechiness and Instrumentalness: 0.14\n",
      "Speechiness and Liveness: -0.15\n",
      "Speechiness and Valence: 0.06\n",
      "Speechiness and Beats per Minute: 0.21\n",
      "Instrumentalness and Energy: -0.26\n",
      "Instrumentalness and Danceability: -0.01\n",
      "Instrumentalness and Acousticness: 0.19\n",
      "Instrumentalness and Speechiness: 0.14\n",
      "Instrumentalness and Liveness: -0.04\n",
      "Instrumentalness and Valence: -0.07\n",
      "Instrumentalness and Beats per Minute: 0.06\n",
      "Instrumentalness and Duration in Milliseconds: 0.09\n",
      "Liveness and Energy: 0.07\n",
      "Liveness and Danceability: -0.01\n",
      "Liveness and Loudness: -0.07\n",
      "Liveness and Acousticness: -0.13\n",
      "Liveness and Speechiness: -0.15\n",
      "Liveness and Instrumentalness: -0.04\n",
      "Liveness and Valence: -0.03\n",
      "Liveness and Beats per Minute: 0.03\n",
      "Liveness and Duration in Milliseconds: -0.09\n",
      "Valence and Acousticness: -0.24\n",
      "Valence and Speechiness: 0.06\n",
      "Valence and Instrumentalness: -0.07\n",
      "Valence and Liveness: -0.03\n",
      "Valence and Beats per Minute: 0.05\n",
      "Valence and Duration in Milliseconds: -0.04\n",
      "Beats per Minute and Energy: 0.08\n",
      "Beats per Minute and Danceability: 0.17\n",
      "Beats per Minute and Loudness: 0.10\n",
      "Beats per Minute and Acousticness: -0.24\n",
      "Beats per Minute and Speechiness: 0.21\n",
      "Beats per Minute and Instrumentalness: 0.06\n",
      "Beats per Minute and Liveness: 0.03\n",
      "Beats per Minute and Valence: 0.05\n",
      "Beats per Minute and Duration in Milliseconds: 0.13\n",
      "Duration in Milliseconds and Energy: 0.08\n",
      "Duration in Milliseconds and Danceability: -0.03\n",
      "Duration in Milliseconds and Loudness: 0.06\n",
      "Duration in Milliseconds and Acousticness: -0.01\n",
      "Duration in Milliseconds and Instrumentalness: 0.09\n",
      "Duration in Milliseconds and Liveness: -0.09\n",
      "Duration in Milliseconds and Valence: -0.04\n",
      "Duration in Milliseconds and Beats per Minute: 0.13\n"
     ]
    }
   ],
   "source": [
    "# Get pairs of features that are not correlated (correlation between -0.1 and 0.1)\n",
    "threshold = 0.3\n",
    "non_correlated_pairs = []\n",
    "\n",
    "# Loop through the correlation matrix and identify non-correlated pairs\n",
    "for col1 in correlation_matrix.columns:\n",
    "    for col2 in correlation_matrix.columns:\n",
    "        # Skip if it's the same feature or if the correlation value is beyond the threshold\n",
    "        if col1 != col2 and abs(correlation_matrix.loc[col1, col2]) <= threshold:\n",
    "            non_correlated_pairs.append(\n",
    "                (col1, col2, correlation_matrix.loc[col1, col2])\n",
    "            )\n",
    "\n",
    "# Print the non-correlated pairs\n",
    "print(\"These features are not correlated (correlation value between -0.3 and 0.3):\")\n",
    "for pair in non_correlated_pairs:\n",
    "    print(f\"{pair[0]} and {pair[1]}: {pair[2]:.2f}\")"
   ]
  },
  {
   "cell_type": "markdown",
   "metadata": {},
   "source": [
    "**How does the danceability score compare between Pop, Hip-Hop/Rap, Dance/Electronic, and Alternative/Indie genres?**"
   ]
  },
  {
   "cell_type": "code",
   "execution_count": 43,
   "metadata": {},
   "outputs": [
    {
     "data": {
      "text/html": [
       "<div>\n",
       "<style scoped>\n",
       "    .dataframe tbody tr th:only-of-type {\n",
       "        vertical-align: middle;\n",
       "    }\n",
       "\n",
       "    .dataframe tbody tr th {\n",
       "        vertical-align: top;\n",
       "    }\n",
       "\n",
       "    .dataframe thead th {\n",
       "        text-align: right;\n",
       "    }\n",
       "</style>\n",
       "<table border=\"1\" class=\"dataframe\">\n",
       "  <thead>\n",
       "    <tr style=\"text-align: right;\">\n",
       "      <th></th>\n",
       "      <th>count</th>\n",
       "      <th>min</th>\n",
       "      <th>max</th>\n",
       "      <th>mean</th>\n",
       "      <th>median</th>\n",
       "      <th>std</th>\n",
       "    </tr>\n",
       "    <tr>\n",
       "      <th>Genre</th>\n",
       "      <th></th>\n",
       "      <th></th>\n",
       "      <th></th>\n",
       "      <th></th>\n",
       "      <th></th>\n",
       "      <th></th>\n",
       "    </tr>\n",
       "  </thead>\n",
       "  <tbody>\n",
       "    <tr>\n",
       "      <th>Alternative/Indie</th>\n",
       "      <td>4</td>\n",
       "      <td>0.459</td>\n",
       "      <td>0.862</td>\n",
       "      <td>0.661750</td>\n",
       "      <td>0.663</td>\n",
       "      <td>0.211107</td>\n",
       "    </tr>\n",
       "    <tr>\n",
       "      <th>Dance/Electronic</th>\n",
       "      <td>5</td>\n",
       "      <td>0.647</td>\n",
       "      <td>0.880</td>\n",
       "      <td>0.755000</td>\n",
       "      <td>0.785</td>\n",
       "      <td>0.094744</td>\n",
       "    </tr>\n",
       "    <tr>\n",
       "      <th>Hip-Hop/Rap</th>\n",
       "      <td>13</td>\n",
       "      <td>0.598</td>\n",
       "      <td>0.896</td>\n",
       "      <td>0.765538</td>\n",
       "      <td>0.774</td>\n",
       "      <td>0.085470</td>\n",
       "    </tr>\n",
       "    <tr>\n",
       "      <th>Pop</th>\n",
       "      <td>14</td>\n",
       "      <td>0.464</td>\n",
       "      <td>0.806</td>\n",
       "      <td>0.677571</td>\n",
       "      <td>0.690</td>\n",
       "      <td>0.109853</td>\n",
       "    </tr>\n",
       "  </tbody>\n",
       "</table>\n",
       "</div>"
      ],
      "text/plain": [
       "                   count    min    max      mean  median       std\n",
       "Genre                                                             \n",
       "Alternative/Indie      4  0.459  0.862  0.661750   0.663  0.211107\n",
       "Dance/Electronic       5  0.647  0.880  0.755000   0.785  0.094744\n",
       "Hip-Hop/Rap           13  0.598  0.896  0.765538   0.774  0.085470\n",
       "Pop                   14  0.464  0.806  0.677571   0.690  0.109853"
      ]
     },
     "execution_count": 43,
     "metadata": {},
     "output_type": "execute_result"
    }
   ],
   "source": [
    "# List of genres to compare\n",
    "genres_of_interest = [\"Pop\", \"Hip-Hop/Rap\", \"Dance/Electronic\", \"Alternative/Indie\"]\n",
    "\n",
    "# Filter the dataset for the selected genres\n",
    "filtered_tracks = tracks[tracks[\"Genre\"].isin(genres_of_interest)]\n",
    "\n",
    "# Group by genre and calculate the mean danceability score for each genre\n",
    "danceability_by_genre = filtered_tracks.groupby(\"Genre\", observed=True)[\n",
    "    \"Danceability\"\n",
    "].agg([\"count\", \"min\", \"max\", \"mean\", \"median\", \"std\"])\n",
    "\n",
    "# Display the danceability mean values by genre\n",
    "danceability_by_genre"
   ]
  },
  {
   "cell_type": "markdown",
   "metadata": {},
   "source": [
    "**<font color='red'>Pop</font>, <font color='red'>Hip-Hop/Rap</font> and <font color='red'>Dance/Electronic</font> genres have higher and more consistent danceability, while <font color='red'>Alternative/Indie</font> shows more variation in danceability scores.**"
   ]
  },
  {
   "cell_type": "markdown",
   "metadata": {},
   "source": [
    "**How does the loudness score compare between Pop, Hip-Hop/Rap, Dance/Electronic, and Alternative/Indie genres?**"
   ]
  },
  {
   "cell_type": "code",
   "execution_count": 44,
   "metadata": {},
   "outputs": [
    {
     "data": {
      "text/html": [
       "<div>\n",
       "<style scoped>\n",
       "    .dataframe tbody tr th:only-of-type {\n",
       "        vertical-align: middle;\n",
       "    }\n",
       "\n",
       "    .dataframe tbody tr th {\n",
       "        vertical-align: top;\n",
       "    }\n",
       "\n",
       "    .dataframe thead th {\n",
       "        text-align: right;\n",
       "    }\n",
       "</style>\n",
       "<table border=\"1\" class=\"dataframe\">\n",
       "  <thead>\n",
       "    <tr style=\"text-align: right;\">\n",
       "      <th></th>\n",
       "      <th>count</th>\n",
       "      <th>min</th>\n",
       "      <th>max</th>\n",
       "      <th>mean</th>\n",
       "      <th>median</th>\n",
       "      <th>std</th>\n",
       "    </tr>\n",
       "    <tr>\n",
       "      <th>Genre</th>\n",
       "      <th></th>\n",
       "      <th></th>\n",
       "      <th></th>\n",
       "      <th></th>\n",
       "      <th></th>\n",
       "      <th></th>\n",
       "    </tr>\n",
       "  </thead>\n",
       "  <tbody>\n",
       "    <tr>\n",
       "      <th>Alternative/Indie</th>\n",
       "      <td>4</td>\n",
       "      <td>-6.401</td>\n",
       "      <td>-4.746</td>\n",
       "      <td>-5.421000</td>\n",
       "      <td>-5.2685</td>\n",
       "      <td>0.774502</td>\n",
       "    </tr>\n",
       "    <tr>\n",
       "      <th>Dance/Electronic</th>\n",
       "      <td>5</td>\n",
       "      <td>-7.567</td>\n",
       "      <td>-3.756</td>\n",
       "      <td>-5.338000</td>\n",
       "      <td>-5.4570</td>\n",
       "      <td>1.479047</td>\n",
       "    </tr>\n",
       "    <tr>\n",
       "      <th>Hip-Hop/Rap</th>\n",
       "      <td>13</td>\n",
       "      <td>-8.820</td>\n",
       "      <td>-3.370</td>\n",
       "      <td>-6.917846</td>\n",
       "      <td>-7.6480</td>\n",
       "      <td>1.891808</td>\n",
       "    </tr>\n",
       "    <tr>\n",
       "      <th>Pop</th>\n",
       "      <td>14</td>\n",
       "      <td>-14.454</td>\n",
       "      <td>-3.280</td>\n",
       "      <td>-6.460357</td>\n",
       "      <td>-6.6445</td>\n",
       "      <td>3.014281</td>\n",
       "    </tr>\n",
       "  </tbody>\n",
       "</table>\n",
       "</div>"
      ],
      "text/plain": [
       "                   count     min    max      mean  median       std\n",
       "Genre                                                              \n",
       "Alternative/Indie      4  -6.401 -4.746 -5.421000 -5.2685  0.774502\n",
       "Dance/Electronic       5  -7.567 -3.756 -5.338000 -5.4570  1.479047\n",
       "Hip-Hop/Rap           13  -8.820 -3.370 -6.917846 -7.6480  1.891808\n",
       "Pop                   14 -14.454 -3.280 -6.460357 -6.6445  3.014281"
      ]
     },
     "execution_count": 44,
     "metadata": {},
     "output_type": "execute_result"
    }
   ],
   "source": [
    "# Group by genre and calculate the mean loudness score for each genre\n",
    "loudness_by_genre = filtered_tracks.groupby(\"Genre\", observed=True)[\"Loudness\"].agg(\n",
    "    [\"count\", \"min\", \"max\", \"mean\", \"median\", \"std\"]\n",
    ")\n",
    "\n",
    "# Display the loudness mean values by genre\n",
    "loudness_by_genre"
   ]
  },
  {
   "cell_type": "markdown",
   "metadata": {},
   "source": [
    "**<font color='blue'>Dance/Electronic</font> and <font color='blue'>Hip-Hop/Rap</font> are generally louder. <font color='blue'>Pop</font> has the most varied loudness levels, while <font color='blue'>Alternative/Indie</font> tends to have more consistent loudness across tracks.**"
   ]
  },
  {
   "cell_type": "markdown",
   "metadata": {},
   "source": [
    "**How does the acousticness score compare between Pop, Hip-Hop/Rap, Dance/Electronic, and Alternative/Indie genres?**"
   ]
  },
  {
   "cell_type": "code",
   "execution_count": 45,
   "metadata": {},
   "outputs": [
    {
     "data": {
      "text/html": [
       "<div>\n",
       "<style scoped>\n",
       "    .dataframe tbody tr th:only-of-type {\n",
       "        vertical-align: middle;\n",
       "    }\n",
       "\n",
       "    .dataframe tbody tr th {\n",
       "        vertical-align: top;\n",
       "    }\n",
       "\n",
       "    .dataframe thead th {\n",
       "        text-align: right;\n",
       "    }\n",
       "</style>\n",
       "<table border=\"1\" class=\"dataframe\">\n",
       "  <thead>\n",
       "    <tr style=\"text-align: right;\">\n",
       "      <th></th>\n",
       "      <th>count</th>\n",
       "      <th>min</th>\n",
       "      <th>max</th>\n",
       "      <th>mean</th>\n",
       "      <th>median</th>\n",
       "      <th>std</th>\n",
       "    </tr>\n",
       "    <tr>\n",
       "      <th>Genre</th>\n",
       "      <th></th>\n",
       "      <th></th>\n",
       "      <th></th>\n",
       "      <th></th>\n",
       "      <th></th>\n",
       "      <th></th>\n",
       "    </tr>\n",
       "  </thead>\n",
       "  <tbody>\n",
       "    <tr>\n",
       "      <th>Alternative/Indie</th>\n",
       "      <td>4</td>\n",
       "      <td>0.29100</td>\n",
       "      <td>0.751</td>\n",
       "      <td>0.583500</td>\n",
       "      <td>0.6460</td>\n",
       "      <td>0.204086</td>\n",
       "    </tr>\n",
       "    <tr>\n",
       "      <th>Dance/Electronic</th>\n",
       "      <td>5</td>\n",
       "      <td>0.01370</td>\n",
       "      <td>0.223</td>\n",
       "      <td>0.099440</td>\n",
       "      <td>0.0686</td>\n",
       "      <td>0.095828</td>\n",
       "    </tr>\n",
       "    <tr>\n",
       "      <th>Hip-Hop/Rap</th>\n",
       "      <td>13</td>\n",
       "      <td>0.00513</td>\n",
       "      <td>0.731</td>\n",
       "      <td>0.188741</td>\n",
       "      <td>0.1450</td>\n",
       "      <td>0.186396</td>\n",
       "    </tr>\n",
       "    <tr>\n",
       "      <th>Pop</th>\n",
       "      <td>14</td>\n",
       "      <td>0.02100</td>\n",
       "      <td>0.902</td>\n",
       "      <td>0.323843</td>\n",
       "      <td>0.2590</td>\n",
       "      <td>0.318142</td>\n",
       "    </tr>\n",
       "  </tbody>\n",
       "</table>\n",
       "</div>"
      ],
      "text/plain": [
       "                   count      min    max      mean  median       std\n",
       "Genre                                                               \n",
       "Alternative/Indie      4  0.29100  0.751  0.583500  0.6460  0.204086\n",
       "Dance/Electronic       5  0.01370  0.223  0.099440  0.0686  0.095828\n",
       "Hip-Hop/Rap           13  0.00513  0.731  0.188741  0.1450  0.186396\n",
       "Pop                   14  0.02100  0.902  0.323843  0.2590  0.318142"
      ]
     },
     "execution_count": 45,
     "metadata": {},
     "output_type": "execute_result"
    }
   ],
   "source": [
    "# Group by genre and calculate the mean acousticness score for each genre\n",
    "acousticness_by_genre = filtered_tracks.groupby(\"Genre\", observed=True)[\n",
    "    \"Acousticness\"\n",
    "].agg([\"count\", \"min\", \"max\", \"mean\", \"median\", \"std\"])\n",
    "\n",
    "# Display the acousticness mean values by genre\n",
    "acousticness_by_genre"
   ]
  },
  {
   "cell_type": "markdown",
   "metadata": {},
   "source": [
    "**<font color='green'>Alternative/Indie</font> is more acoustic, while <font color='green'>Pop</font>, <font color='green'>Dance/Electronic</font> and <font color='green'>Hip-Hop/Rap</font> are less acoustic with more synthetic sounds. Also, <font color='green'>Pop</font> stands out with the greatest variation in acousticness, offering a diverse range of acoustic styles, while <font color='green'>Dance/Electronic</font> has the least variation, maintaining a consistent, electronic-based sound.**"
   ]
  },
  {
   "cell_type": "markdown",
   "metadata": {},
   "source": [
    "## Suggestions for how my analysis could be improved"
   ]
  },
  {
   "cell_type": "markdown",
   "metadata": {},
   "source": [
    "* **Additional correlation analysis:** It might be worth exploring interactions between additional features in the correlation matrix, especially in the context of genre differences. This could reveal interesting relationships that aren’t immediately apparent.\n",
    "* **Data Visualization:** Create visualizations such as histograms, bar charts, or scatter plots to better understand the distribution of numeric features (e.g., danceability, loudness, energy) across genres. This will help highlight trends and patterns more clearly.\n",
    "* **Statistical Tests:** For deeper insights, apply statistical tests (e.g., t-tests, ANOVA) to compare the danceability or loudness scores between genres or artist types, providing a more robust analysis of differences."
   ]
  }
 ],
 "metadata": {
  "kernelspec": {
   "display_name": "Python 3 (ipykernel)",
   "language": "python",
   "name": "python3"
  },
  "language_info": {
   "codemirror_mode": {
    "name": "ipython",
    "version": 3
   },
   "file_extension": ".py",
   "mimetype": "text/x-python",
   "name": "python",
   "nbconvert_exporter": "python",
   "pygments_lexer": "ipython3",
   "version": "3.10.3"
  }
 },
 "nbformat": 4,
 "nbformat_minor": 2
}
